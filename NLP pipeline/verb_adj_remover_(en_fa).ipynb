{
 "cells": [
  {
   "cell_type": "markdown",
   "metadata": {},
   "source": [
    "# REMOVING VERB AND ADJ FOR ENGLISH DATA"
   ]
  },
  {
   "cell_type": "code",
   "execution_count": 1,
   "metadata": {},
   "outputs": [],
   "source": [
    "import re\n",
    "import nltk\n",
    "import string\n",
    "import datetime\n",
    "import numpy as np\n",
    "from os import path\n",
    "import pandas as pd\n",
    "import stanza"
   ]
  },
  {
   "cell_type": "code",
   "execution_count": 2,
   "metadata": {},
   "outputs": [
    {
     "name": "stderr",
     "output_type": "stream",
     "text": [
      "2020-04-13 15:30:51 INFO: Loading these models for language: en (English):\n",
      "=========================\n",
      "| Processor | Package   |\n",
      "-------------------------\n",
      "| tokenize  | ewt       |\n",
      "| pos       | ewt       |\n",
      "| lemma     | ewt       |\n",
      "| depparse  | ewt       |\n",
      "| ner       | ontonotes |\n",
      "=========================\n",
      "\n",
      "2020-04-13 15:30:52 INFO: Use device: cpu\n",
      "2020-04-13 15:30:52 INFO: Loading: tokenize\n",
      "2020-04-13 15:30:52 INFO: Loading: pos\n",
      "2020-04-13 15:30:56 INFO: Loading: lemma\n",
      "2020-04-13 15:30:56 INFO: Loading: depparse\n",
      "2020-04-13 15:30:59 INFO: Loading: ner\n",
      "2020-04-13 15:31:05 INFO: Done loading processors!\n"
     ]
    }
   ],
   "source": [
    "nlp = stanza.Pipeline('en') # initialize English neural pipeline"
   ]
  },
  {
   "cell_type": "code",
   "execution_count": 46,
   "metadata": {},
   "outputs": [
    {
     "name": "stdout",
     "output_type": "stream",
     "text": [
      "i food \n"
     ]
    }
   ],
   "source": [
    "df1=pd.read_json('/home/zahragh/news/twitterscraper/bbcfa.json', encoding='utf-8')\n",
    "x=[]\n",
    "x.extend(df1[\"text\"])"
   ]
  },
  {
   "cell_type": "markdown",
   "metadata": {},
   "source": [
    "## this cell removes the verb and adj"
   ]
  },
  {
   "cell_type": "code",
   "execution_count": 47,
   "metadata": {},
   "outputs": [],
   "source": [
    "# x=[\"i went to uni\",\"i wake up\"]\n",
    "verbs=[]\n",
    "adj=[]\n",
    "for i,j in enumerate(x):\n",
    "    doc=nlp(j)\n",
    "    data=\"\"\n",
    "    for sentence in doc.sentences:\n",
    "        for word in sentence.words:\n",
    "            if word.pos==\"VERB\":\n",
    "                verbs.append(word.text)\n",
    "            elif word.pos==\"ADJ\":\n",
    "                adj.append(word.text)\n",
    "            else:\n",
    "                data+=word.text+\" \"\n",
    "    x[i]=data\n",
    "    \n"
   ]
  },
  {
   "cell_type": "markdown",
   "metadata": {},
   "source": [
    "## this one keeps the adj and puts the lemma for the verb"
   ]
  },
  {
   "cell_type": "code",
   "execution_count": 62,
   "metadata": {},
   "outputs": [],
   "source": [
    "x=[\"i went to uni\",\"she wakes up\"]\n",
    "verbs=[]\n",
    "adj=[]\n",
    "for i,j in enumerate(x):\n",
    "    doc=nlp(j)\n",
    "    data=\"\"\n",
    "    for sentence in doc.sentences:\n",
    "        for word in sentence.words:\n",
    "            if word.pos==\"VERB\":\n",
    "                verbs.append(word.text)\n",
    "                data+=word.lemma+\" \"\n",
    "            elif word.pos==\"ADJ\":\n",
    "                adj.append(word.text)\n",
    "                data+=word.text+\" \"\n",
    "            else:\n",
    "                data+=word.text+\" \"\n",
    "    x[i]=data\n",
    "    "
   ]
  },
  {
   "cell_type": "code",
   "execution_count": 63,
   "metadata": {},
   "outputs": [
    {
     "data": {
      "text/plain": [
       "['i go to uni ', 'she wake up ']"
      ]
     },
     "execution_count": 63,
     "metadata": {},
     "output_type": "execute_result"
    }
   ],
   "source": [
    "x"
   ]
  },
  {
   "cell_type": "markdown",
   "metadata": {},
   "source": [
    "# REMOVING VERB AND ADJ FOR PERSIAN DATA"
   ]
  },
  {
   "cell_type": "code",
   "execution_count": 50,
   "metadata": {},
   "outputs": [
    {
     "name": "stderr",
     "output_type": "stream",
     "text": [
      "2020-04-13 16:12:23 INFO: Loading these models for language: fa (Persian):\n",
      "=======================\n",
      "| Processor | Package |\n",
      "-----------------------\n",
      "| tokenize  | seraji  |\n",
      "| mwt       | seraji  |\n",
      "| pos       | seraji  |\n",
      "| lemma     | seraji  |\n",
      "| depparse  | seraji  |\n",
      "=======================\n",
      "\n",
      "2020-04-13 16:12:23 INFO: Use device: cpu\n",
      "2020-04-13 16:12:23 INFO: Loading: tokenize\n",
      "2020-04-13 16:12:23 INFO: Loading: mwt\n",
      "2020-04-13 16:12:23 INFO: Loading: pos\n",
      "2020-04-13 16:12:27 INFO: Loading: lemma\n",
      "2020-04-13 16:12:27 INFO: Loading: depparse\n",
      "2020-04-13 16:12:30 INFO: Done loading processors!\n"
     ]
    }
   ],
   "source": [
    "nlpfa = stanza.Pipeline('fa')"
   ]
  },
  {
   "cell_type": "code",
   "execution_count": 51,
   "metadata": {},
   "outputs": [],
   "source": [
    "df1=pd.read_json('/home/zahragh/news/twitterscraper/bbcfa.json', encoding='utf-8')\n",
    "x=[]\n",
    "x.extend(df1[\"text\"])"
   ]
  },
  {
   "cell_type": "markdown",
   "metadata": {},
   "source": [
    "## this cell removes the verb and adj"
   ]
  },
  {
   "cell_type": "code",
   "execution_count": 57,
   "metadata": {},
   "outputs": [],
   "source": [
    "# x=[\"بابا آب دادم\"]\n",
    "verbsfa=[]\n",
    "adjfa=[]\n",
    "for i,j in enumerate(x):\n",
    "    doc=nlpfa(j)\n",
    "    data=\"\"\n",
    "    for sentence in doc.sentences:\n",
    "        for word in sentence.words:\n",
    "            if word.pos==\"VERB\":\n",
    "                verbsfa.append(word.text)\n",
    "            elif word.pos==\"ADJ\":\n",
    "                adjfa.append(word.text)\n",
    "            else:\n",
    "                data+=word.text+\" \"\n",
    "    x[i]=data\n",
    "    \n"
   ]
  },
  {
   "cell_type": "markdown",
   "metadata": {},
   "source": [
    "## this one keeps the adj and puts the lemma for the verb"
   ]
  },
  {
   "cell_type": "code",
   "execution_count": 66,
   "metadata": {},
   "outputs": [],
   "source": [
    "x=[\"بابا آب دادم\"]\n",
    "verbsfa=[]\n",
    "adjfa=[]\n",
    "for i,j in enumerate(x):\n",
    "    doc=nlpfa(j)\n",
    "    data=\"\"\n",
    "    for sentence in doc.sentences:\n",
    "        for word in sentence.words:\n",
    "            if word.pos==\"VERB\":\n",
    "                verbsfa.append(word.text)\n",
    "                root=word.lemma\n",
    "                if '#' in root:\n",
    "                    root = root.split('#')[1].lstrip().split(' ')[0] \n",
    "                data+=root+\" \"\n",
    "            elif word.pos==\"ADJ\":\n",
    "                adjfa.append(word.text)\n",
    "                data+=word.text+\" \"\n",
    "            else:\n",
    "                data+=word.text+\" \"\n",
    "    x[i]=data\n",
    "    "
   ]
  },
  {
   "cell_type": "code",
   "execution_count": 67,
   "metadata": {},
   "outputs": [
    {
     "data": {
      "text/plain": [
       "['بابا آب ده ']"
      ]
     },
     "execution_count": 67,
     "metadata": {},
     "output_type": "execute_result"
    }
   ],
   "source": [
    "x"
   ]
  },
  {
   "cell_type": "code",
   "execution_count": null,
   "metadata": {},
   "outputs": [],
   "source": []
  }
 ],
 "metadata": {
  "kernelspec": {
   "display_name": "Python 3",
   "language": "python",
   "name": "python3"
  },
  "language_info": {
   "codemirror_mode": {
    "name": "ipython",
    "version": 3
   },
   "file_extension": ".py",
   "mimetype": "text/x-python",
   "name": "python",
   "nbconvert_exporter": "python",
   "pygments_lexer": "ipython3",
   "version": "3.7.4"
  }
 },
 "nbformat": 4,
 "nbformat_minor": 2
}
