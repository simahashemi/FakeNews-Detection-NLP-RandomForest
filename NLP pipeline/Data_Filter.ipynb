{
 "cells": [
  {
   "cell_type": "code",
   "execution_count": null,
   "metadata": {
    "colab": {},
    "colab_type": "code",
    "id": "AqPaL-gIreuf"
   },
   "outputs": [],
   "source": [
    "import pandas as pd\n",
    "import numpy as np\n",
    "import tweepy\n",
    "import json"
   ]
  },
  {
   "cell_type": "code",
   "execution_count": null,
   "metadata": {
    "colab": {},
    "colab_type": "code",
    "id": "X3dvivrjreum"
   },
   "outputs": [],
   "source": [
    "raw_data = pd.read_json('/home/sima/Documents/My projects/Fake news/Untitled Folder/fatweets/tweetsdeghtesad20142020.json', encoding='utf-8')\n",
    "mask1 = raw_data['is_reply_to'] == True\n",
    "data  = raw_data[mask1]\n",
    "replied_tweets = list(data['parent_tweet_id'])"
   ]
  },
  {
   "cell_type": "code",
   "execution_count": null,
   "metadata": {
    "colab": {},
    "colab_type": "code",
    "id": "hIbNSwlRyMcP"
   },
   "outputs": [],
   "source": [
    "replied_tweets0 = []\n",
    "for i in range(int(len(replied_tweets)/100)):\n",
    "    replied_tweets0.append([])\n",
    "    replied_tweets0[i] = replied_tweets[100*i:100+100*i] \n",
    "# len(replied_tweets0)"
   ]
  },
  {
   "cell_type": "code",
   "execution_count": null,
   "metadata": {
    "colab": {},
    "colab_type": "code",
    "id": "Rw16gwZvreur"
   },
   "outputs": [],
   "source": [
    "consumer_key = \"fq6b3opl2gt0fDd5i6pYJ08gi\"\n",
    "consumer_secret = \"usyTc0tHpwhurJaxq5dTgYPYamNXuePXFUS5WbMPOV2zonGayD\"\n",
    "access_token = \"45531928-mw9naHOKWtbUpIe8GKYLWx0YPWVP3YkfQBWZOLacK\"\n",
    "access_token_secret = \"ZiOgMqunsXmAQrwSqHmDw8dWYBwQhVi86CQBHSohTCK3m\"\n",
    "\n",
    "auth = tweepy.OAuthHandler(consumer_key, consumer_secret)\n",
    "auth.set_access_token(access_token, access_token_secret)\n",
    "\n",
    "api = tweepy.API(auth)\n",
    "\n",
    "txt = []\n",
    "timestamp = []\n",
    "retweets = []\n",
    "likes = []\n",
    "followers = []\n",
    "username = []\n",
    "entities = []\n",
    "tweet_id = []\n",
    "users_id = []\n"
   ]
  },
  {
   "cell_type": "code",
   "execution_count": null,
   "metadata": {
    "colab": {},
    "colab_type": "code",
    "id": "U8ZfcmxZzWRY"
   },
   "outputs": [],
   "source": [
    "for k in range(len(replied_tweets0)):\n",
    "    tweets = api.statuses_lookup(replied_tweets0[k]) # id_list is the list of tweet ids\n",
    "    for i in tweets:\n",
    "        txt.append(i.text)\n",
    "        timestamp.append(i.created_at)\n",
    "        retweets.append(i.retweet_count)  \n",
    "        likes.append(i.favorite_count)\n",
    "        followers.append(i.user.followers_count)\n",
    "        username.append(i.user.name)\n",
    "        users_id.append(i.user.id)\n",
    "        tweet_id.append(i.id)\n",
    "        entities.append(i.entities)\n",
    "    print(\"k is\", k)  \n"
   ]
  },
  {
   "cell_type": "code",
   "execution_count": null,
   "metadata": {
    "colab": {},
    "colab_type": "code",
    "id": "d-uR5jUHT3m6"
   },
   "outputs": [],
   "source": [
    "following=[api.get_user(friend).friends_count for friend in users_id]    "
   ]
  },
  {
   "cell_type": "code",
   "execution_count": null,
   "metadata": {
    "colab": {},
    "colab_type": "code",
    "id": "Jo7Dxlzoreuw"
   },
   "outputs": [],
   "source": [
    "hashtags=[]\n",
    "for k in entities:\n",
    "    hashtag=[]\n",
    "    for ent in k[\"hashtags\"]:\n",
    "        if ent is not None:\n",
    "            if \"text\" in ent:\n",
    "                if hashtag is not None:\n",
    "                    hashtag.append(ent[\"text\"])\n",
    "        \n",
    "    if hashtag is not None:\n",
    "        hashtags.append(hashtag)\n",
    "    else:\n",
    "        hashtags.append([])\n",
    "    "
   ]
  },
  {
   "cell_type": "code",
   "execution_count": null,
   "metadata": {
    "colab": {},
    "colab_type": "code",
    "id": "sH5hKPpxreu3"
   },
   "outputs": [],
   "source": [
    "df = pd.DataFrame({'Name': username, \n",
    "                   'user_ID':users_id,\n",
    "                   'timestamp':timestamp,\n",
    "                   'text':txt,\n",
    "                   'tweet_ID':tweet_id,\n",
    "                   'no. of retweets':retweets,\n",
    "                   'no. of likes': likes,\n",
    "                   'no. of users followers':followers,\n",
    "#                    'no.of users following':following,\n",
    "                   'entities':entities,\n",
    "                   'hashtags':hashtags\n",
    "                  }) "
   ]
  },
  {
   "cell_type": "code",
   "execution_count": null,
   "metadata": {
    "colab": {},
    "colab_type": "code",
    "id": "TU8Mdi15reu9"
   },
   "outputs": [],
   "source": [
    "df.to_json(r'/home/sima/Documents/My projects/Fake news/Untitled Folder/fatweets/tst.json',orient='split')"
   ]
  }
 ],
 "metadata": {
  "colab": {
   "name": "Data Filter (1).ipynb",
   "provenance": [],
   "toc_visible": true
  },
  "kernelspec": {
   "display_name": "Python 3",
   "language": "python",
   "name": "python3"
  },
  "language_info": {
   "codemirror_mode": {
    "name": "ipython",
    "version": 3
   },
   "file_extension": ".py",
   "mimetype": "text/x-python",
   "name": "python",
   "nbconvert_exporter": "python",
   "pygments_lexer": "ipython3",
   "version": "3.7.3"
  }
 },
 "nbformat": 4,
 "nbformat_minor": 1
}
